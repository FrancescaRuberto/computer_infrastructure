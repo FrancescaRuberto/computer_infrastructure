{
 "cells": [
  {
   "cell_type": "markdown",
   "id": "53386e67",
   "metadata": {},
   "source": [
    "# Computer Infrastructure - Problems Portfolio \n",
    "\n",
    "This notebook contains a collection of problems completed for the Computer Infrastructure course at ATU.  \n",
    "Each section includes the problem statement, reasoning, and the corresponding solution with code examples.  "
   ]
  },
  {
   "cell_type": "markdown",
   "id": "4cb57ca2",
   "metadata": {},
   "source": [
    "## Problem 1: Downloading Hourly FAANG Stock Data Using `yfinance`\n",
    "\n",
    "### Description\n",
    "This problem requires writing a Python function named `get_data()` that uses the `yfinance` package to download **hourly stock data** for the **five FAANG companies** — Facebook (META), Apple (AAPL), Amazon (AMZN), Netflix (NFLX), and Google (GOOG) — covering the **previous five days**.\n",
    "\n",
    "The function must:\n",
    "- Automatically create a folder named **`data`** in the root directory (if it does not exist).  \n",
    "- Save the retrieved dataset as a **CSV file** in that folder.  \n",
    "- Use a filename in the format **`YYYYMMDD-HHmmss.csv`**, where:\n",
    "  - `YYYYMMDD` represents the current year, month, and day.\n",
    "  - `HHmmss` represents the hour, minute, and second at the time the file is created."
   ]
  },
  {
   "cell_type": "code",
   "execution_count": 5,
   "id": "cf69e313",
   "metadata": {},
   "outputs": [],
   "source": [
    "# Importing all libraries\n",
    "import yfinance as yf\n",
    "import pandas as pd\n",
    "import datetime as dt"
   ]
  },
  {
   "cell_type": "code",
   "execution_count": 11,
   "id": "a24d4519",
   "metadata": {},
   "outputs": [],
   "source": [
    "# Get data function + faangs\n",
    "def get_data():\n",
    "    tickers = ['META', 'AAPL', 'AMZN', 'NFLX', 'GOOG']  # dentro la funzione\n",
    "# Get data of the last 5 days for the 5 FAANG stocks\n",
    "    data = yf.download(\n",
    "        tickers=tickers,\n",
    "        period=\"5d\",\n",
    "        interval=\"1h\",\n",
    "        group_by=\"ticker\"\n",
    "    )"
   ]
  }
 ],
 "metadata": {
  "kernelspec": {
   "display_name": "Python 3",
   "language": "python",
   "name": "python3"
  },
  "language_info": {
   "codemirror_mode": {
    "name": "ipython",
    "version": 3
   },
   "file_extension": ".py",
   "mimetype": "text/x-python",
   "name": "python",
   "nbconvert_exporter": "python",
   "pygments_lexer": "ipython3",
   "version": "3.12.1"
  }
 },
 "nbformat": 4,
 "nbformat_minor": 5
}
