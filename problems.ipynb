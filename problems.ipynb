{
 "cells": [
  {
   "cell_type": "markdown",
   "id": "53386e67",
   "metadata": {},
   "source": [
    "# Computer Infrastructure - Problems Portfolio \n",
    "\n",
    "This notebook contains a collection of problems completed for the Computer Infrastructure course at ATU.  \n",
    "Each section includes the problem statement, reasoning, and the corresponding solution with code examples.  "
   ]
  }
 ],
 "metadata": {
  "language_info": {
   "name": "python"
  }
 },
 "nbformat": 4,
 "nbformat_minor": 5
}
